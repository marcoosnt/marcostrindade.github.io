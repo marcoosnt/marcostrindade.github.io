{
  "nbformat": 4,
  "nbformat_minor": 0,
  "metadata": {
    "colab": {
      "provenance": [],
      "authorship_tag": "ABX9TyNVS35QLms06Xfvr8O+sClI",
      "include_colab_link": true
    },
    "kernelspec": {
      "name": "python3",
      "display_name": "Python 3"
    },
    "language_info": {
      "name": "python"
    }
  },
  "cells": [
    {
      "cell_type": "markdown",
      "metadata": {
        "id": "view-in-github",
        "colab_type": "text"
      },
      "source": [
        "<a href=\"https://colab.research.google.com/github/marcoosnt/marcostrindade.github.io/blob/master/Temperatura_api.ipynb\" target=\"_parent\"><img src=\"https://colab.research.google.com/assets/colab-badge.svg\" alt=\"Open In Colab\"/></a>"
      ]
    },
    {
      "cell_type": "code",
      "execution_count": 2,
      "metadata": {
        "colab": {
          "base_uri": "https://localhost:8080/"
        },
        "id": "69mxzWT0IWbB",
        "outputId": "38380c5a-c0a0-4a74-8306-a1350137b5b2"
      },
      "outputs": [
        {
          "output_type": "stream",
          "name": "stdout",
          "text": [
            "Dados salvos com sucesso em: dados_climaticos_sp.xlsx\n"
          ]
        }
      ],
      "source": [
        "import requests\n",
        "import pandas as pd\n",
        "from datetime import datetime, timedelta\n",
        "\n",
        "# Coordenadas de São Paulo\n",
        "latitude = -23.55\n",
        "longitude = -46.63\n",
        "\n",
        "# Datas da última semana\n",
        "end_date = datetime.today().date()\n",
        "start_date = end_date - timedelta(days=7)\n",
        "\n",
        "# URL da API do Open-Meteo\n",
        "url = \"https://archive-api.open-meteo.com/v1/archive\"\n",
        "\n",
        "params = {\n",
        "    \"latitude\": latitude,\n",
        "    \"longitude\": longitude,\n",
        "    \"start_date\": start_date.isoformat(),\n",
        "    \"end_date\": end_date.isoformat(),\n",
        "    \"hourly\": \"temperature_2m,relative_humidity_2m,precipitation\",\n",
        "    \"timezone\": \"America/Sao_Paulo\"\n",
        "}\n",
        "\n",
        "# Requisição à API\n",
        "response = requests.get(url, params=params)\n",
        "data = response.json()\n",
        "\n",
        "# Criação do DataFrame\n",
        "df = pd.DataFrame({\n",
        "    \"datetime\": data[\"hourly\"][\"time\"],\n",
        "    \"temperature_C\": data[\"hourly\"][\"temperature_2m\"],\n",
        "    \"humidity_%\": data[\"hourly\"][\"relative_humidity_2m\"],\n",
        "    \"precipitation_mm\": data[\"hourly\"][\"precipitation\"]\n",
        "})\n",
        "\n",
        "# Salva em uma planilha Excel\n",
        "dados_tempo = \"dados_climaticos_sp.xlsx\"\n",
        "df.to_excel(dados_tempo, index=False)\n",
        "\n",
        "print(f\"Dados salvos com sucesso em: {dados_tempo}\")\n"
      ]
    }
  ]
}